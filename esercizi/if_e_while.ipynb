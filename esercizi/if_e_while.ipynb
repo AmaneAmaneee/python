{
  "cells": [
    {
      "cell_type": "markdown",
      "metadata": {
        "id": "HB3XbPDcSqe1"
      },
      "source": [
        "# Esercizi IF"
      ]
    },
    {
      "cell_type": "code",
      "execution_count": 7,
      "metadata": {
        "id": "0U7L9A29RfeT"
      },
      "outputs": [
        {
          "name": "stdout",
          "output_type": "stream",
          "text": [
            "Dispari\n"
          ]
        }
      ],
      "source": [
        "# Es 4.1: Ottenere dall'utente un numero in input e scrivere a schermo \"Pari\" se il numero è pari, scrivere \"Dispari\" altrimenti\n",
        "\n",
        "x = int (input (\"inserisci un numero\"))\n",
        "if x % 2 == 0:\n",
        "    print (\"il numero è pari\")\n",
        "else:\n",
        "    print (\"il numero è dispari\")\n"
      ]
    },
    {
      "cell_type": "code",
      "execution_count": 17,
      "metadata": {
        "id": "gE3RVr9ORuwP"
      },
      "outputs": [
        {
          "name": "stdout",
          "output_type": "stream",
          "text": [
            "non è un triangolo.\n"
          ]
        }
      ],
      "source": [
        "# Es 4.2: Ottenere dall'utente tre angoli caso siano i tre angoli di un triangolo scrivere a schermo \"È un triangolo\", altrimenti \"Non è un triangolo\"\n",
        "\n",
        "x = int (input (\"inserisci il primo angolo:\"))\n",
        "y = int (input (\"inserisci il secondo angolo:\"))\n",
        "z = int (input (\"inserisci il terzo angolo:\"))\n",
        "\n",
        "if (x + y + z == 180) and (x>0, y>0, z>0) and (x<180, y<180, z<180):\n",
        "    print (\"è un triangolo!\")\n",
        "else:\n",
        "    print (\"non è un triangolo :()\")\n"
      ]
    },
    {
      "cell_type": "code",
      "execution_count": 24,
      "metadata": {
        "id": "r1A_DavcSKgi"
      },
      "outputs": [
        {
          "name": "stdout",
          "output_type": "stream",
          "text": [
            "non è un triangolo\n"
          ]
        }
      ],
      "source": [
        "# Es 4.3: Ottenuti dall'utente tre angoli di un tringolo scrivere a schermo se i tre angoli descrivono un triangolo rettangolo o no\n",
        "\n",
        "x = int (input (\"inserisci il primo angolo:\"))\n",
        "y = int (input (\"inserisci il secondo angolo:\"))\n",
        "z = int (input (\"inserisci il terzo angolo:\"))\n",
        "\n",
        "if (x + y + z == 180) and (x>0, y>0, z>0) and (x<180, y<180, z<180):\n",
        "    if x==90 or y==90 or z==90:\n",
        "        print (\"è un triangolo rettangolo!\")\n",
        "    else:\n",
        "        print (\"è un triangolo non rettangolo...\")\n",
        "else: \n",
        "    print (\"non è un triangolo :()\")"
      ]
    },
    {
      "cell_type": "code",
      "execution_count": 1,
      "metadata": {
        "id": "iA9D4X_GSims"
      },
      "outputs": [
        {
          "name": "stdout",
          "output_type": "stream",
          "text": [
            "è un triangolo non equilatero\n"
          ]
        }
      ],
      "source": [
        "# Es 4.4: Ottenuti dall'utente tre angoli di un tringolo scrivere a schermo se i tre angoli descrivono un triangolo equilatero o no\n",
        "\n",
        "x = int (input (\"inserisci il primo angolo:\"))\n",
        "y = int (input (\"inserisci il secondo angolo:\"))\n",
        "z = int (input (\"inserisci il terzo angolo:\"))\n",
        "\n",
        "if (x + y + z == 180) and (x>0, y>0, z>0) and (x<180, y<180, z<180):\n",
        "    if x==y==z:\n",
        "        print (\"è un triangolo equilatero!\")\n",
        "    else:\n",
        "        print (\"è un triangolo non equilatero...\")\n",
        "else: \n",
        "    print (\"non è un triangolo :()\")"
      ]
    },
    {
      "cell_type": "code",
      "execution_count": 2,
      "metadata": {
        "id": "8q4gadoTSU7J"
      },
      "outputs": [
        {
          "name": "stdout",
          "output_type": "stream",
          "text": [
            "è un triangolo isoscele\n"
          ]
        }
      ],
      "source": [
        "# Es 4.5: Ottenuti dall'utente tre angoli di un tringolo scrivere a schermo se i tre angoli descrivono un triangolo isocele o no\n",
        "\n",
        "x = int (input (\"inserisci il primo angolo:\"))\n",
        "y = int (input (\"inserisci il secondo angolo:\"))\n",
        "z = int (input (\"inserisci il terzo angolo:\"))\n",
        "\n",
        "if (x + y + z == 180) and (x>0, y>0, z>0) and (x<180, y<180, z<180):\n",
        "    if x==y or x==z or y==z:\n",
        "        print (\"è un triangolo isoscele!\")\n",
        "    else:\n",
        "        print (\"è un triangolo non isoscele...\")\n",
        "else:\n",
        "    print (\"non è un triangolo :()\")"
      ]
    },
    {
      "cell_type": "code",
      "execution_count": null,
      "metadata": {
        "id": "yVIE2kK3SYlq"
      },
      "outputs": [
        {
          "name": "stdout",
          "output_type": "stream",
          "text": [
            "è un triangolo non rettangolo\n",
            "è un triangolo non equilatero\n",
            "è un triangolo isoscele\n"
          ]
        }
      ],
      "source": [
        "# Es 4.6: Ottenuti dall'utente tre angoli di un tringolo scrivere a schermo se i tre angoli descrivono un triangolo isocele, rettagolo, equilatero o scaleno\n",
        "\n",
        "x = int (input (\"inserisci il primo angolo:\"))\n",
        "y = int (input (\"inserisci il secondo angolo:\"))\n",
        "z = int (input (\"inserisci il terzo angolo:\"))\n",
        "\n",
        "if (x + y + z == 180) and (x>0, y>0, z>0) and (x<180, y<180, z<180):\n",
        "    if x!=y and x!=y and y!=z:\n",
        "        print (\"è un triangolo scaleno!\")\n",
        "    elif x==y==z:\n",
        "        print (\"è un triangolo equilatero!\")\n",
        "    elif x==y or x==z or y==z:\n",
        "        print (\"è un triangolo isoscele!\")\n",
        "    if x==90 or y==90 or z==90:\n",
        "        print (\"è un triangolo rettangolo!\")\n",
        "else:\n",
        "    print (\"non è un triangolo :()\")\n",
        " "
      ]
    },
    {
      "cell_type": "markdown",
      "metadata": {
        "id": "ef5snVxLqeQh"
      },
      "source": [
        "# Esercizi WHILE\n"
      ]
    },
    {
      "cell_type": "code",
      "execution_count": 3,
      "metadata": {
        "id": "j61RqiHxqdmh"
      },
      "outputs": [
        {
          "name": "stdout",
          "output_type": "stream",
          "text": [
            "5.458673\n",
            "5.458673\n",
            "5.458673\n",
            "5.458673\n"
          ]
        }
      ],
      "source": [
        "# Es 4.7: Creare una funzione print_n(n,v) che stampi n volte il. contenuto di v\n",
        "\n",
        "def print_n(n,v):\n",
        "    m = 1\n",
        "    while m <= n:\n",
        "        print (v)\n",
        "        m = m + 1\n",
        "\n",
        "v = float (input (\"Inserisci un numero:\"))\n",
        "n = int (input (\"Inserisci quante volte vuoi ripetere il numero:\")) \n",
        "\n",
        "print_n (n,v)"
      ]
    },
    {
      "cell_type": "code",
      "execution_count": 5,
      "metadata": {
        "colab": {
          "base_uri": "https://localhost:8080/"
        },
        "id": "-6lAm-hfq9w9",
        "outputId": "399e82ba-3cfe-475f-f8df-0e156677ec75"
      },
      "outputs": [
        {
          "name": "stdout",
          "output_type": "stream",
          "text": [
            "1\n",
            "2\n",
            "7\n"
          ]
        }
      ],
      "source": [
        "# Es 4.8: Inserito il numero n dire per quali numeri, compresi tra 1 e n, è divisibile.\n",
        "# Inserisco 10: stampo 1,2,5\n",
        "# Inserisco 7: stampo 1\n",
        "\n",
        "num = int (input (\"inserisci un numero:\"))\n",
        "m = 1\n",
        "\n",
        "while m <= num/2:\n",
        "    if num % m == 0:\n",
        "        print (\"il numero \", num, \" è divibile per: \", m)\n",
        "    m = m + 1"
      ]
    },
    {
      "cell_type": "code",
      "execution_count": null,
      "metadata": {
        "colab": {
          "base_uri": "https://localhost:8080/"
        },
        "id": "GjC4LdR7rP-b",
        "outputId": "9f539b4d-c307-479a-da13-610a7e1cc46e"
      },
      "outputs": [],
      "source": [
        "# Es 4.9: Inserito il numero n dire se è primo o no\n",
        "\n",
        "num = int (input (\"inserisci un numero:\"))\n",
        "a = 2\n",
        "numP = True\n",
        "\n",
        "while numP a < n:\n",
        "    if n % a == 0:\n",
        "        print (\"il numero \", n,\" non è primo\")\n",
        "        numP = False\n",
        "    else:\n",
        "        a = a + 1\n",
        "\n",
        "if numP:\n",
        "    print (\"il numero \", n, \" è primo\")"
      ]
    },
    {
      "cell_type": "code",
      "execution_count": 8,
      "metadata": {
        "colab": {
          "base_uri": "https://localhost:8080/"
        },
        "id": "CxtWnOdHsTv4",
        "outputId": "5d874410-cb07-46a2-9c22-83d541b7a91a"
      },
      "outputs": [
        {
          "name": "stdout",
          "output_type": "stream",
          "text": [
            "12\n"
          ]
        }
      ],
      "source": [
        "# Es 4.10: Creare la funzione moltiplica che restituisce il prodotto tra due numeri senza utilizzare *\n",
        "# 3*4 è uguale a 4+4+4\n",
        "\n",
        "def moltiplica (m, n):\n",
        "    a = 1\n",
        "    P = 0\n",
        "    while a <= m:\n",
        "        P = P + n\n",
        "        a = a + 1\n",
        "    print (P)\n",
        "        \n",
        "m = int (input (\"inserisci il primo numero:\"))\n",
        "n = int (input (\"inserisci il secondo numero:\"))\n",
        "\n",
        "moltiplica (m, n)"
      ]
    }
  ],
  "metadata": {
    "colab": {
      "provenance": []
    },
    "kernelspec": {
      "display_name": "Python 3",
      "name": "python3"
    },
    "language_info": {
      "codemirror_mode": {
        "name": "ipython",
        "version": 3
      },
      "file_extension": ".py",
      "mimetype": "text/x-python",
      "name": "python",
      "nbconvert_exporter": "python",
      "pygments_lexer": "ipython3",
      "version": "3.10.8"
    }
  },
  "nbformat": 4,
  "nbformat_minor": 0
}
