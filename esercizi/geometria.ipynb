{
  "cells": [
    {
      "cell_type": "markdown",
      "metadata": {
        "id": "HB3XbPDcSqe1"
      },
      "source": [
        "# Esercizi Geometrici"
      ]
    },
    {
      "cell_type": "markdown",
      "metadata": {
        "id": "LCcywn6v2KxD"
      },
      "source": [
        "In Python per stampare consecutivamente più parole senza creare una riga per ognuna bisogna usare il seguente codice:\n"
      ]
    },
    {
      "cell_type": "code",
      "execution_count": null,
      "metadata": {
        "colab": {
          "base_uri": "https://localhost:8080/"
        },
        "id": "PHdyo8E42sza",
        "outputId": "fb51a75d-54ef-48c3-f6ad-342834d2738b"
      },
      "outputs": [],
      "source": [
        "print(\"Parola 1\", end=\" \")\n",
        "print(\"Parola 2\", end=\".\\n\")\n",
        "print(\"Parola 3\")"
      ]
    },
    {
      "cell_type": "code",
      "execution_count": 11,
      "metadata": {
        "colab": {
          "base_uri": "https://localhost:8080/"
        },
        "id": "0U7L9A29RfeT",
        "outputId": "ccdd9b72-55df-486a-a68d-cfe73e90461d"
      },
      "outputs": [
        {
          "name": "stdout",
          "output_type": "stream",
          "text": [
            "* * * * \n",
            "* * * * \n",
            "* * * * \n",
            "* * * * \n"
          ]
        }
      ],
      "source": [
        "# Es 6.1: Scrivi la funzione quadrato(n) che stampi a schermo un quadrato di lato nxn formato utilizzando il carattere *\n",
        "#         Esempio:    3 ->  * * *       4 ->  * * * *\n",
        "#                           * * *             * * * *\n",
        "#                           * * *             * * * *\n",
        "#                                             * * * *\n",
        "\n",
        "n = int (input (\"inserisci il lato del quadrato:\"))\n",
        "\n",
        "# r = righe\n",
        "# c = colonne\n",
        "\n",
        "def quadrato (n):\n",
        "    for r in range (0, n):\n",
        "        for c in range (0, n):\n",
        "            print (\"*\", end = \" \")\n",
        "        print (end = \"\\n\")\n",
        "    \n",
        "quadrato (n)"
      ]
    },
    {
      "cell_type": "code",
      "execution_count": 9,
      "metadata": {
        "id": "gE3RVr9ORuwP"
      },
      "outputs": [
        {
          "name": "stdout",
          "output_type": "stream",
          "text": [
            "* * * * * * \n",
            "* * * * * * \n",
            "* * * * * * \n"
          ]
        }
      ],
      "source": [
        "# Es 6.2: Scrivi la funzione rettangolo(n) che stampi a schermo un rettangolo di lato nx2n formato utilizzando il carattere *\n",
        "#         Esempio:    3 ->  * * * * * *         4 ->  * * * * * * * *\n",
        "#                           * * * * * *               * * * * * * * *\n",
        "#                           * * * * * *               * * * * * * * *\n",
        "#                                                     * * * * * * * *\n",
        "\n",
        "n = int (input (\"inserisci il lato minore del rettangolo:\"))\n",
        "\n",
        "# r = righe\n",
        "# c = colonne\n",
        "\n",
        "def rettangolo (n):\n",
        "    for c in range (0, n):\n",
        "        for r in range (0, 2*n):\n",
        "            print (\"*\", end = \" \")\n",
        "        print (end = \"\\n\")\n",
        "\n",
        "rettangolo (n)"
      ]
    },
    {
      "cell_type": "code",
      "execution_count": 5,
      "metadata": {
        "id": "r1A_DavcSKgi"
      },
      "outputs": [
        {
          "name": "stdout",
          "output_type": "stream",
          "text": [
            "* \n",
            "* * \n",
            "* * * \n",
            "* * * * \n",
            "* * * * * \n"
          ]
        }
      ],
      "source": [
        "# Es 6.3: Scrivi la funzione triangolo_rettangolo(n) che stampi a schermo un triangolo di cateti n e n formato utilizzando il carattere *\n",
        "#         Esempio:    3 ->  *           4 ->  *\n",
        "#                           * *               * *\n",
        "#                           * * *             * * *\n",
        "#                                             * * * *\n",
        "\n",
        "n = int (input (\"inserisci il cateto del triangolo rettangolo isoscele:\"))\n",
        "\n",
        "def triRett (n):\n",
        "    for a in range (0, n):\n",
        "        for b in range (0, a+1):\n",
        "            print (\"*\", end = \" \")\n",
        "        print (end = \"\\n\")\n",
        "\n",
        "triRett (n)"
      ]
    },
    {
      "cell_type": "code",
      "execution_count": 7,
      "metadata": {
        "id": "iA9D4X_GSims"
      },
      "outputs": [
        {
          "name": "stdout",
          "output_type": "stream",
          "text": [
            "* * * * * \n",
            "*       * \n",
            "*       * \n",
            "*       * \n",
            "* * * * * \n"
          ]
        }
      ],
      "source": [
        "# Es 6.4: Scrivi la funzione bordo_quadrato(n) che stampi a schermo un quadrato di lato nxn formato utilizzando il carattere * come contorno\n",
        "#         Esempio:    3 ->  * * *       4 ->  * * * *\n",
        "#                           *   *             *     *\n",
        "#                           * * *             *     *\n",
        "#                                             * * * *\n",
        "\n",
        "n = int (input (\"inserisci il lato del quadrato:\"))\n",
        "\n",
        "# r = righe\n",
        "# c = colonne\n",
        "\n",
        "def bordo_quadrato (n):\n",
        "    for r in range (0, n):\n",
        "        for c in range (0, n):\n",
        "            if (r == 0) or (r == n-1) or (c == 0) or (c == n-1):\n",
        "                print (\"*\", end = \" \")\n",
        "            else:\n",
        "                print (\" \", end = \" \")\n",
        "        print (end = \"\\n\")\n",
        "        \n",
        "bordo_quadrato (n)"
      ]
    },
    {
      "cell_type": "code",
      "execution_count": 25,
      "metadata": {
        "colab": {
          "base_uri": "https://localhost:8080/"
        },
        "id": "1vlDMqo_4uNc",
        "outputId": "de4cc1b2-7110-4ad6-b86c-d67c5756c074"
      },
      "outputs": [
        {
          "name": "stdout",
          "output_type": "stream",
          "text": [
            "/ - - \\ \n",
            "|     | \n",
            "|     | \n",
            "\\ - - / \n"
          ]
        }
      ],
      "source": [
        "# Es 6.5: Scrivi la funzione bordo_quadrato_bello(n) che stampi a schermo un quadrato di lato nxn formato utilizzando iseguenti caratteri:\n",
        "#         Esempio:    3 ->  / - \\       4 ->  / - - \\\n",
        "#                           |   |             |     |\n",
        "#                           \\ - /             |     |\n",
        "#                                             \\ - - /\n",
        "# Per stampare \\ dovete utilizzare \"\\\\\" ovvero print(\"\\\\\")\n",
        "\n",
        "n = int (input (\"inserisci il lato del quadrato:\"))\n",
        "\n",
        "# r = righe\n",
        "# c = colonne\n",
        "\n",
        "def bordo_quadrato_bello (n):\n",
        "    for r in range (0, n):\n",
        "        for c in range (0, n):\n",
        "            if (r == 0 and c == 0) or (r == n-1 and c == n-1):\n",
        "                print (\"/\", end = \" \")\n",
        "            elif (r == 0 and c == n-1) or (r == n-1 and c == 0):\n",
        "                print (\"\\\\\", end = \" \")\n",
        "            elif (r != 0 and r != n-1) and (c == 0 or c == n-1):\n",
        "                print (\"|\", end = \" \")\n",
        "            elif (r == 0 or r == n-1) and (c != 0 and c != n-1):\n",
        "                print (\"-\", end = \" \")\n",
        "            else:\n",
        "                print (\" \", end = \" \")\n",
        "        print (end = \"\\n\")\n",
        "    #aiuto\n",
        "\n",
        "bordo_quadrato_bello (n)"
      ]
    },
    {
      "cell_type": "code",
      "execution_count": 43,
      "metadata": {
        "id": "2E9Hk9kkv5Mx"
      },
      "outputs": [
        {
          "name": "stdout",
          "output_type": "stream",
          "text": [
            "^\\     \n",
            "|  \\   \n",
            "|    \\ \n",
            "|      \n",
            "|___\n"
          ]
        }
      ],
      "source": [
        "# Es 6.6: Scrivi la funzione trianglo_bello(n) che stampi a schermo un triangolo di cateti n e n formato utilizzando iseguenti caratteri:\n",
        "#.   ^\\\n",
        "#    | \\\n",
        "#.   |  \\\n",
        "#.   |___\\\n",
        "\n",
        "n = int (input (\"inserisci il lato del triangolo:\"))\n",
        "\n",
        "def triangolo_bello (n):\n",
        "    for r in range (0, n):\n",
        "        for c in range (0, n-1):\n",
        "            if (r == 0) and (c == 0):\n",
        "                print (\"^\", end = \"\")\n",
        "            elif (r == 0 and c == 1) or (c == r+1):\n",
        "                print (\"\\\\\", end = \"\")\n",
        "            elif (r > 0) and (c == 0):\n",
        "                print (\"|\", end = \"\")\n",
        "            elif (r == n-1 and c > 0 and c < n-1):\n",
        "                print (\"_\", end = \"\")\n",
        "            else:\n",
        "                print (\" \", end = \" \")\n",
        "        print (end = \"\\n\")\n",
        "\n",
        "#io ci ho provato\n",
        "\n",
        "triangolo_bello (n)"
      ]
    }
  ],
  "metadata": {
    "colab": {
      "provenance": []
    },
    "kernelspec": {
      "display_name": "Python 3",
      "name": "python3"
    },
    "language_info": {
      "codemirror_mode": {
        "name": "ipython",
        "version": 3
      },
      "file_extension": ".py",
      "mimetype": "text/x-python",
      "name": "python",
      "nbconvert_exporter": "python",
      "pygments_lexer": "ipython3",
      "version": "3.10.8"
    }
  },
  "nbformat": 4,
  "nbformat_minor": 0
}
