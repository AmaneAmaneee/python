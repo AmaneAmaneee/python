{
  "cells": [
    {
      "cell_type": "code",
      "execution_count": 3,
      "metadata": {
        "id": "dEWxmkWc48Lz"
      },
      "outputs": [
        {
          "name": "stdout",
          "output_type": "stream",
          "text": [
            "La lettera non è presente nella parola :(\n",
            "Hai un tentativo in meno :'(\n",
            "Hai  5  tentativi\n",
            "La lettera non è presente nella parola :(\n",
            "Hai un tentativo in meno :'(\n",
            "Hai  4  tentativi\n",
            "La lettera non è presente nella parola :(\n",
            "Hai un tentativo in meno :'(\n",
            "Hai  3  tentativi\n",
            "La lettera non è presente nella parola :(\n",
            "Hai un tentativo in meno :'(\n",
            "Hai  2  tentativi\n",
            "La lettera non è presente nella parola :(\n",
            "Hai un tentativo in meno :'(\n",
            "Hai  1  tentativi\n",
            "Hai trovato una lettera :)\n",
            "Hai ancora  1  tentativi per indovinare la parola!\n",
            "Hai trovato una lettera :)\n",
            "Hai ancora  1  tentativi per indovinare la parola!\n",
            "La lettera non è presente nella parola :(\n",
            "Hai finito i tentativi senza indovinare! :(\n",
            "La parola era cancro\n"
          ]
        }
      ],
      "source": [
        "# Es 8.1 Creare il gioco dell'impiccato\n",
        "# Suggerimento: per controllare se la lettera 'a' è presente all'interno della parola 'casa' si può usare:\n",
        "#\n",
        "# if 'a' in 'casa':\n",
        "#   print('Presente')\n",
        "\n",
        "parola = \"cancro\"\n",
        "errori = 6\n",
        "\n",
        "while errori > 0:\n",
        "    lettera = input(\"Prova a indovinare la parola!\")\n",
        "    if lettera == parola:\n",
        "        print (\"Hai trovato la parola :D\")\n",
        "        errori = 0\n",
        "    elif lettera in parola: \n",
        "        print (\"Hai trovato una lettera :)\")\n",
        "        print (\"Hai ancora \", errori, \" errori disponibili per indovinare la parola!\")\n",
        "    else:\n",
        "        print (\"La lettera non è presente nella parola :(\")\n",
        "        errori = errori - 1\n",
        "        if errori > 0:\n",
        "            print (\"Hai un tentativo in meno :'(\")\n",
        "            print (\"Hai \", errori, \" tentativi\")\n",
        "        else:\n",
        "            print (\"Hai perso! :(\")\n",
        "            print (\"La parola era\", parola)\n"
      ]
    }
  ],
  "metadata": {
    "colab": {
      "provenance": []
    },
    "kernelspec": {
      "display_name": "Python 3",
      "name": "python3"
    },
    "language_info": {
      "codemirror_mode": {
        "name": "ipython",
        "version": 3
      },
      "file_extension": ".py",
      "mimetype": "text/x-python",
      "name": "python",
      "nbconvert_exporter": "python",
      "pygments_lexer": "ipython3",
      "version": "3.10.8"
    }
  },
  "nbformat": 4,
  "nbformat_minor": 0
}
