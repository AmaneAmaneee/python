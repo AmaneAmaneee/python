{
  "cells": [
    {
      "cell_type": "code",
      "execution_count": 3,
      "metadata": {
        "id": "dEWxmkWc48Lz"
      },
      "outputs": [
        {
          "name": "stdout",
          "output_type": "stream",
          "text": [
            "Prova a indovinare la parola!\n",
            "La lettera è presente nella parola :D\n"
          ]
        },
        {
          "ename": "NameError",
          "evalue": "name 'parola_creata' is not defined",
          "output_type": "error",
          "traceback": [
            "\u001b[0;31m---------------------------------------------------------------------------\u001b[0m",
            "\u001b[0;31mNameError\u001b[0m                                 Traceback (most recent call last)",
            "\u001b[1;32m/workspaces/python/esercizi/impiccato.ipynb Cella 1\u001b[0m line \u001b[0;36m1\n\u001b[1;32m     <a href='vscode-notebook-cell://codespaces%2Bubiquitous-space-rotary-phone-5grqp9qx45pc4xjp/workspaces/python/esercizi/impiccato.ipynb#W0sdnNjb2RlLXJlbW90ZQ%3D%3D?line=13'>14</a>\u001b[0m \u001b[39mif\u001b[39;00m prova \u001b[39min\u001b[39;00m parola:\n\u001b[1;32m     <a href='vscode-notebook-cell://codespaces%2Bubiquitous-space-rotary-phone-5grqp9qx45pc4xjp/workspaces/python/esercizi/impiccato.ipynb#W0sdnNjb2RlLXJlbW90ZQ%3D%3D?line=14'>15</a>\u001b[0m     \u001b[39mprint\u001b[39m (\u001b[39m\"\u001b[39m\u001b[39mLa lettera è presente nella parola :D\u001b[39m\u001b[39m\"\u001b[39m)\n\u001b[0;32m---> <a href='vscode-notebook-cell://codespaces%2Bubiquitous-space-rotary-phone-5grqp9qx45pc4xjp/workspaces/python/esercizi/impiccato.ipynb#W0sdnNjb2RlLXJlbW90ZQ%3D%3D?line=15'>16</a>\u001b[0m     parola_creata [\u001b[39m0\u001b[39m] \u001b[39m=\u001b[39m prova \n\u001b[1;32m     <a href='vscode-notebook-cell://codespaces%2Bubiquitous-space-rotary-phone-5grqp9qx45pc4xjp/workspaces/python/esercizi/impiccato.ipynb#W0sdnNjb2RlLXJlbW90ZQ%3D%3D?line=16'>17</a>\u001b[0m \u001b[39melse\u001b[39;00m:\n\u001b[1;32m     <a href='vscode-notebook-cell://codespaces%2Bubiquitous-space-rotary-phone-5grqp9qx45pc4xjp/workspaces/python/esercizi/impiccato.ipynb#W0sdnNjb2RlLXJlbW90ZQ%3D%3D?line=17'>18</a>\u001b[0m     \u001b[39mprint\u001b[39m (\u001b[39m\"\u001b[39m\u001b[39mLa lettera non è presente nella parola :(\u001b[39m\u001b[39m\"\u001b[39m)\n",
            "\u001b[0;31mNameError\u001b[0m: name 'parola_creata' is not defined"
          ]
        }
      ],
      "source": [
        "# Es 8.1 Creare il gioco dell'impiccato\n",
        "# Suggerimento: per controllare se la lettera 'a' è presente all'interno della parola 'casa' si può usare:\n",
        "#\n",
        "# if 'a' in 'casa':\n",
        "#   print('Presente')\n",
        "\n",
        "errori = 0\n",
        "parola = \"cancro\"\n",
        "print (\"Prova a indovinare la parola!\")\n",
        "while errori != 6:\n",
        "    #fa le cose, ogni errore che fa, \"errori\" aumenta di uno fino a 6, al sesto finisce il gioco\n",
        "    prova = input (\"Inserisci una lettera della parola.\")\n",
        "    for prova in parola:\n",
        "        if prova in parola:\n",
        "            print (\"La lettera è presente nella parola :D\")\n",
        "        else:\n",
        "            print (\"La lettera non è presente nella parola :(\")\n",
        "            errori = errori+1\n",
        "\n"
      ]
    }
  ],
  "metadata": {
    "colab": {
      "provenance": []
    },
    "kernelspec": {
      "display_name": "Python 3",
      "name": "python3"
    },
    "language_info": {
      "codemirror_mode": {
        "name": "ipython",
        "version": 3
      },
      "file_extension": ".py",
      "mimetype": "text/x-python",
      "name": "python",
      "nbconvert_exporter": "python",
      "pygments_lexer": "ipython3",
      "version": "3.10.8"
    }
  },
  "nbformat": 4,
  "nbformat_minor": 0
}
